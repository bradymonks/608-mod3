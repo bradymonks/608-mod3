{
 "cells": [
  {
   "cell_type": "code",
   "execution_count": null,
   "metadata": {},
   "outputs": [],
   "source": [
    "def maximum(n1,n2,n3):\n",
    "    \"\"\"Find max value of 3 numbers\"\"\"\n",
    "    max_value = n1\n",
    "    if n2 > max_value:\n",
    "        max_value = n2\n",
    "    if n3 > max_value:\n",
    "        max_value = n3\n",
    "    return max_value\n",
    "\n",
    "maximum(7,58,8)"
   ]
  }
 ],
 "metadata": {
  "kernelspec": {
   "display_name": "Python 3",
   "language": "python",
   "name": "python3"
  },
  "language_info": {
   "codemirror_mode": {
    "name": "ipython",
    "version": 3
   },
   "file_extension": ".py",
   "mimetype": "text/x-python",
   "name": "python",
   "nbconvert_exporter": "python",
   "pygments_lexer": "ipython3",
   "version": "3.8.5"
  }
 },
 "nbformat": 4,
 "nbformat_minor": 4
}
