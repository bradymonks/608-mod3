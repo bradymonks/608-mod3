{
 "cells": [
  {
   "cell_type": "code",
   "execution_count": 1,
   "metadata": {},
   "outputs": [],
   "source": [
    "import random"
   ]
  },
  {
   "cell_type": "code",
   "execution_count": 2,
   "metadata": {},
   "outputs": [],
   "source": [
    "import statistics as stats"
   ]
  },
  {
   "cell_type": "code",
   "execution_count": 3,
   "metadata": {},
   "outputs": [
    {
     "name": "stdout",
     "output_type": "stream",
     "text": [
      "200 Grades have been generated between 70 and 100. These are the results of those numbers.\n",
      "Mean:  85.36\n",
      "Population Variance:  76.81\n",
      "Standard Deviation:  8.76\n"
     ]
    }
   ],
   "source": [
    "grades = []\n",
    "for x in range(200):\n",
    "    y = random.randint(70,100)\n",
    "    grades.append(y)\n",
    "print(\"200 Grades have been generated between 70 and 100 for a random class. These are the results of those numbers.\")\n",
    "print(\"Mean: \",round(stats.mean(grades),2))\n",
    "print(\"Population Variance: \", round(stats.pvariance(grades),2))\n",
    "print(\"Standard Deviation: \",round(stats.pstdev(grades),2))"
   ]
  },
  {
   "cell_type": "code",
   "execution_count": 4,
   "metadata": {},
   "outputs": [],
   "source": [
    "## Brady Monks"
   ]
  }
 ],
 "metadata": {
  "kernelspec": {
   "display_name": "Python 3",
   "language": "python",
   "name": "python3"
  },
  "language_info": {
   "codemirror_mode": {
    "name": "ipython",
    "version": 3
   },
   "file_extension": ".py",
   "mimetype": "text/x-python",
   "name": "python",
   "nbconvert_exporter": "python",
   "pygments_lexer": "ipython3",
   "version": "3.8.5"
  }
 },
 "nbformat": 4,
 "nbformat_minor": 4
}
